{
 "cells": [
  {
   "cell_type": "code",
   "execution_count": 327,
   "metadata": {
    "scrolled": true
   },
   "outputs": [],
   "source": [
    "import re\n",
    "import subprocess\n",
    "from pathlib import Path\n",
    "\n",
    "import dicom2nifti\n",
    "import pydicom\n",
    "import shutil\n",
    "import tempfile\n",
    "import nilearn.image\n",
    "import numpy as npy\n",
    "import pandas as pd\n",
    "import nibabel as nib\n",
    "from p_tqdm import p_map\n",
    "from hashlib import sha3_256"
   ]
  },
  {
   "cell_type": "code",
   "execution_count": 328,
   "metadata": {
    "scrolled": true
   },
   "outputs": [],
   "source": [
    "# parameters\n",
    "project = 'TUE1014TSHOD'\n",
    "in_dir = Path(f'/media/nora/import_move/')/project\n",
    "out_dir = Path(f'/media/dataheppt1/raheppt1/dcm_out')/project\n",
    "out_dir.mkdir(exist_ok=True)\n",
    "ano_dir = out_dir/'anonymization'/project\n",
    "ano_dir.mkdir(exist_ok=True, parents=True)\n",
    "nora_dir = Path('/media/nora/imgdata')/project\n",
    "num_cpus = 7"
   ]
  },
  {
   "cell_type": "markdown",
   "metadata": {},
   "source": [
    "### DICOM to nifti"
   ]
  },
  {
   "cell_type": "markdown",
   "metadata": {},
   "source": [
    "#### Hashing"
   ]
  },
  {
   "cell_type": "code",
   "execution_count": 329,
   "metadata": {
    "scrolled": true
   },
   "outputs": [],
   "source": [
    "def name_to_hash(patient, study):\n",
    "    hash_name_long = sha3_256(patient.encode(\"utf-8\")).hexdigest()\n",
    "    hash_seq_long = sha3_256(study.encode(\"utf-8\")).hexdigest()\n",
    "    hash_name = hash_name_long[:7]\n",
    "    seq_name = hash_seq_long[:3]\n",
    "    complete_hash = hash_name + seq_name\n",
    "    return complete_hash"
   ]
  },
  {
   "cell_type": "markdown",
   "metadata": {},
   "source": [
    "#### PET SUV conversion"
   ]
  },
  {
   "cell_type": "code",
   "execution_count": 330,
   "metadata": {
    "scrolled": true
   },
   "outputs": [],
   "source": [
    "def conv_time(time_str):\n",
    "    return (float(time_str[:2]) * 3600 + float(time_str[2:4]) * 60 + float(time_str[4:13]))\n",
    "\n",
    "def calculate_suv_factor(dcm_path):\n",
    "    ds = pydicom.dcmread(str(dcm_path))\n",
    "    total_dose = ds.RadiopharmaceuticalInformationSequence[0].RadionuclideTotalDose\n",
    "    start_time = ds.RadiopharmaceuticalInformationSequence[0].RadiopharmaceuticalStartTime\n",
    "    half_life = ds.RadiopharmaceuticalInformationSequence[0].RadionuclideHalfLife\n",
    "    acq_time = ds.AcquisitionTime\n",
    "    weight = ds.PatientWeight\n",
    "    time_diff = conv_time(acq_time) - conv_time(start_time)\n",
    "    act_dose = total_dose * 0.5 ** (time_diff / half_life)\n",
    "    suv_factor = 1000 * weight / act_dose\n",
    "    return suv_factor\n",
    "\n",
    "def convert_pet(pet, suv_factor=1.0):\n",
    "    affine = pet.affine\n",
    "    pet_data = pet.get_fdata()\n",
    "    pet_suv_data = (pet_data*suv_factor).astype(np.float32)\n",
    "    pet_suv = nib.Nifti1Image(pet_suv_data, affine)\n",
    "    return pet_suv "
   ]
  },
  {
   "cell_type": "markdown",
   "metadata": {},
   "source": [
    "#### Dicom Preprocessing"
   ]
  },
  {
   "cell_type": "code",
   "execution_count": 335,
   "metadata": {
    "scrolled": true
   },
   "outputs": [],
   "source": [
    "def process_directory(dcm_dir):\n",
    "    info = {}\n",
    "\n",
    "    # parsing\n",
    "    pet_dcm_header = next(dcm_dir.glob('**/P*.dcm'))\n",
    "    ct_dcm_header = next(dcm_dir.glob('**/C*.dcm'))\n",
    "    ds = pydicom.dcmread(str(pet_dcm_header))\n",
    "\n",
    "    # create directories\n",
    "    subject_hash = name_to_hash(ds.PatientName, ds.StudyID)\n",
    "    subject_dir = out_dir/subject_hash\n",
    "    subject_dir.mkdir(exist_ok=True)\n",
    "    shutil.copy(pet_dcm_header, ano_dir/f'{subject_hash}_pet.dcm')\n",
    "    shutil.copy(ct_dcm_header, ano_dir/f'{subject_hash}_ct.dcm')\n",
    "    temp = tempfile.TemporaryDirectory()\n",
    "    temp_path = Path(temp.name)\n",
    "\n",
    "    # get subject info\n",
    "    suv_factor = calculate_suv_factor(pet_dcm_header)\n",
    "    info['Project'] = [project]\n",
    "    info['Hash'] = [subject_hash]\n",
    "    info['Name'] = [str(ds.PatientName)]\n",
    "    info['PatientID'] = [str(ds.PatientID)]\n",
    "    info['StudyID']= [str(ds.StudyID)]\n",
    "    info['BirthDate'] = [str(ds.PatientBirthDate)]\n",
    "    info['StudyDate'] = [str(ds.StudyDate)]\n",
    "    info['AccessionNumber'] = [str(ds.AccessionNumber)]\n",
    "    info['Age'] = [int(ds.PatientAge[:-1])]\n",
    "    info['SUVfactor'] = [suv_factor]\n",
    "\n",
    "    # convert dicom to nifti\n",
    "    dicom2nifti.convert_directory(dcm_dir, temp_path, compression=True, reorient=True)\n",
    "\n",
    "    # store niftis\n",
    "    ct_path = next(temp_path.glob('*gk*.nii.gz'))\n",
    "    pet_path = next(temp_path.glob('*pet*.nii.gz'))\n",
    "    pet = nib.load(pet_path)\n",
    "    ct = nib.load(ct_path)\n",
    "\n",
    "    pet_suv = convert_pet(pet, suv_factor)\n",
    "    nib.save(pet, subject_dir/f'{subject_hash}_petcorr.nii.gz')\n",
    "    nib.save(pet_suv, subject_dir/f'{subject_hash}_petsuv.nii.gz')\n",
    "    nib.save(ct, subject_dir/f'{subject_hash}_ct.nii.gz')\n",
    "\n",
    "    if nora_dir:\n",
    "        name = info['Name'][0].split('^')\n",
    "        nora_subject_dir = nora_dir/f'{name[0]}_{name[1]}_{info[\"PatientID\"][0]}/{info[\"StudyID\"][0]}_{info[\"StudyDate\"][0]}'\n",
    "        nora_subject_dir.mkdir(exist_ok=True, parents=True)\n",
    "        nib.save(pet_suv, nora_subject_dir/f'{subject_hash}_petsuv.nii.gz')\n",
    "        nib.save(ct, nora_subject_dir/f'{subject_hash}_ct.nii.gz')\n",
    "        subprocess.run(['nora', '-p', project, '--add', str(nora_subject_dir)])\n",
    "\n",
    "    temp.cleanup()\n",
    "    return info"
   ]
  },
  {
   "cell_type": "code",
   "execution_count": 336,
   "metadata": {
    "scrolled": true
   },
   "outputs": [
    {
     "data": {
      "application/vnd.jupyter.widget-view+json": {
       "model_id": "0633af76d3f34ec9982fb84e260b7cb8",
       "version_major": 2,
       "version_minor": 0
      },
      "text/plain": [
       "HBox(children=(FloatProgress(value=0.0, max=97.0), HTML(value='')))"
      ]
     },
     "metadata": {},
     "output_type": "display_data"
    },
    {
     "name": "stdout",
     "output_type": "stream",
     "text": [
      "\n"
     ]
    }
   ],
   "source": [
    "# multiprocessing\n",
    "res = p_map(process_directory, list(in_dir.glob('*')), num_cpus=num_cpus)"
   ]
  },
  {
   "cell_type": "code",
   "execution_count": null,
   "metadata": {},
   "outputs": [],
   "source": [
    "df = pd.concat([pd.DataFrame.from_dict(x) for x in res])\n",
    "df.to_csv(ano_dir.parent/f'{project}.csv')"
   ]
  }
 ],
 "metadata": {
  "kernelspec": {
   "display_name": "Python [conda env:jupyter] *",
   "language": "python",
   "name": "conda-env-jupyter-py"
  },
  "language_info": {
   "codemirror_mode": {
    "name": "ipython",
    "version": 3
   },
   "file_extension": ".py",
   "mimetype": "text/x-python",
   "name": "python",
   "nbconvert_exporter": "python",
   "pygments_lexer": "ipython3",
   "version": "3.7.4"
  }
 },
 "nbformat": 4,
 "nbformat_minor": 4
}