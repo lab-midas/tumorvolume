{
 "cells": [
  {
   "cell_type": "code",
   "execution_count": null,
   "metadata": {},
   "outputs": [],
   "source": [
    "\n",
    "import h5py\n",
    "import numpy as np\n",
    "import scipy.ndimage\n",
    "import matplotlib.pyplot as plt\n",
    "\n",
    "\n",
    "h5_path = \"/mnt/qdata/raheppt1/data/tumorvolume/interim/TUE1001LYMPH_2D.h5\"\n",
    "hf = h5py.File(h5_path, \"r\")\n",
    "\n",
    "pet1 = hf[\"/1/image\"][0, :, :].astype(np.float32)\n",
    "mask1 = hf[\"/1/mask\"][:, :]\n",
    "pet2 = hf[\"2/image\"][0, :, :].astype(np.float32)\n",
    "mask2 = hf[\"2/mask\"][:, :]\n",
    "pet3 = hf[\"3/image\"][0, :, :].astype(np.float32)\n",
    "mask3 = hf[\"3/mask\"][:, :]\n",
    "pet4 = hf[\"4/image\"][0, :, :].astype(np.float32)\n",
    "mask4 = hf[\"4/mask\"][:, :]\n",
    "pet5 = hf[\"5/image\"][0, :, :].astype(np.float32)\n",
    "mask5 = hf[\"5/mask\"][:, :]\n",
    "\n",
    "\n",
    "plt.imshow(pet1, cmap=\"bone\", vmin=0, vmax=0.1)\n",
    "plt.imshow(mask1, cmap=\"inferno\", alpha=0.5)\n",
    "\n",
    "\n",
    "plt.imshow(pet2, cmap=\"bone\", vmin=0, vmax=0.1)\n",
    "plt.imshow(mask2, cmap=\"inferno\", alpha=0.5)\n",
    "\n",
    "\n",
    "plt.imshow(pet3, cmap=\"bone\", vmin=0, vmax=0.1)\n",
    "plt.imshow(mask3, cmap=\"inferno\", alpha=0.5)\n",
    "\n",
    "\n",
    "plt.imshow(pet4, cmap=\"bone\", vmin=0, vmax=0.1)\n",
    "plt.imshow(mask4, cmap=\"inferno\", alpha=0.5)\n",
    "\n",
    "\n",
    "plt.imshow(pet5, cmap=\"bone\", vmin=0, vmax=0.1)\n",
    "plt.imshow(mask5, cmap=\"inferno\", alpha=0.5)\n",
    "\n",
    "\n",
    "hf.close()\n"
   ]
  }
 ],
 "metadata": {
  "kernelspec": {
   "display_name": "Python 3",
   "language": "python",
   "name": "python3"
  },
  "language_info": {
   "codemirror_mode": {
    "name": "ipython",
    "version": 3
   },
   "file_extension": ".py",
   "mimetype": "text/x-python",
   "name": "python",
   "nbconvert_exporter": "python",
   "pygments_lexer": "ipython3",
   "version": "3.7.4"
  }
 },
 "nbformat": 4,
 "nbformat_minor": 1
}