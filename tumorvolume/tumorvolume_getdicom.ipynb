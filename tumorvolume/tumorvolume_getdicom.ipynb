{
 "cells": [
  {
   "cell_type": "code",
   "execution_count": 22,
   "metadata": {},
   "outputs": [],
   "source": [
    "from pathlib import Path\n",
    "\n",
    "import pydicom\n",
    "import pandas as pd"
   ]
  },
  {
   "cell_type": "code",
   "execution_count": 28,
   "metadata": {},
   "outputs": [],
   "source": [
    "work_dir = Path('/media/nora/imgdata/TUE1015TSMEL')"
   ]
  },
  {
   "cell_type": "code",
   "execution_count": 29,
   "metadata": {},
   "outputs": [],
   "source": [
    "with open('TUE1015TSMEL_subjects.txt', 'w') as f:\n",
    "    for d in work_dir.glob('*'):\n",
    "        dcm_header = next((next(d.glob('*'))/'DICOM').glob('*.dcm'))\n",
    "        ds = pydicom.dcmread(str(dcm_header))\n",
    "        f.write(f'{ds.PatientID} {ds.StudyDate} {ds.PatientName} {ds.AccessionNumber}\\n')"
   ]
  }
 ],
 "metadata": {
  "kernelspec": {
   "display_name": "Python 3",
   "language": "python",
   "name": "python3"
  },
  "language_info": {
   "codemirror_mode": {
    "name": "ipython",
    "version": 3
   },
   "file_extension": ".py",
   "mimetype": "text/x-python",
   "name": "python",
   "nbconvert_exporter": "python",
   "pygments_lexer": "ipython3",
   "version": "3.7.4"
  }
 },
 "nbformat": 4,
 "nbformat_minor": 4
}
